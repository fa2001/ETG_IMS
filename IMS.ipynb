{
  "nbformat": 4,
  "nbformat_minor": 0,
  "metadata": {
    "colab": {
      "name": "IMS.ipynb",
      "provenance": []
    },
    "kernelspec": {
      "name": "python3",
      "display_name": "Python 3"
    },
    "language_info": {
      "name": "python"
    }
  },
  "cells": [
    {
      "cell_type": "code",
      "metadata": {
        "id": "juzolSYTgeVw"
      },
      "source": [
        "record = {\n",
        "1:  {\"Supplier\" : \"Glenmark\", \"Pid\" : \"p002\", \"Name\" : \"Aprezo Tablet\", \"Location\": \"Row 3 Column 4\", \"Price\" : 650.56, \"Quantity\" : 45, \"Reorder_Quantity\": 21, \"Purchased_Date\":\"03-aug-21\"},\n",
        "2:  {\"Supplier\" : \"Johnson & Johnson\", \"Pid\" : \"p0453\", \"Name\" : \"Ultracet\", \"Location\": \"Row 2 Column 2\", \"Price\" : 422.34, \"Quantity\" : 67, \"Reorder_Quantity\": 24, \"Purchased_Date\":\"04-jun-21\"},\n",
        "3:  {\"Supplier\" : \"Abbott India\", \"Pid\" : \"p047\", \"Name\" : \"Pedia Sure\", \"Location\": \"Row 3 Column 3\", \"Price\" : 760.65,\"Quantity\":0, \"Reorder_Quantity\": 52, \"Purchased_Date\":\"01-jun-21\"},\n",
        "4:  {\"Supplier\" : \"Cipla\", \"Pid\" : \"p023\", \"Name\" : \"Ataron Eye Drop\", \"Location\": \"Row 2 Column 4\", \"Price\" : 654.40, \"Quantity\" : 23, \"Reorder_Quantity\": 12, \"Purchased_Date\":\"01-jun-21\"},\n",
        "5:  {\"Supplier\" : \"Cipla\", \"Pid\" : \"p003\", \"Name\" : \"Acemax 250mg Tablet\",\"Location\": \"Row 1 Column 4\", \"Price\" : 324.0, \"Quantity\" : 4, \"Reorder_Quantity\": 21, \"Purchased_Date\":\"23-jun-21\"},\n",
        "6:  {\"Supplier\" : \"Abbott India\", \"Pid\" : \"p009\", \"Name\" : \"Ensure\",\"Location\": \"Row 2 Column 1\", \"Price\" : 657.87, \"Quantity\" : 76, \"Reorder_Quantity\": 10, \"Purchased_Date\":\"13-jul-21\"},\n",
        "7:  {\"Supplier\" : \"Johnson & Johnson\", \"Pid\" : \"p043\", \"Name\" : \"Pepcid\", \"Location\": \"Row 4 Column 5\",\"Price\" : 874.00, \"Quantity\" : 54, \"Reorder_Quantity\": 10, \"Purchased_Date\":\"12-jul-21\"},\n",
        "8:  {\"Supplier\" : \"Lupin\", \"Pid\" : \"p072\", \"Name\" : \"Namuscla 167 mg hard capsules\", \"Location\": \"Row 1 Column 3\",\"Price\" : 896.00, \"Quantity\" : 87 , \"Reorder_Quantity\": 20, \"Purchased_Date\":\"02-jul-21\"},\n",
        "9:  {\"Supplier\" : \"Lupin\", \"Pid\" : \"p062\", \"Name\" : \"Sertraline 100 mg Tablets\",\"Location\": \"Row 5 Column 4\", \"Price\" : 3312.00, \"Quantity\" : 6, \"Reorder_Quantity\": 30, \"Purchased_Date\":\"30-jun-21\"},\n",
        "10: {\"Supplier\" : \"Sun Pharma\", \"Pid\" : \"p097\", \"Name\" : \"Nintedanib 100 mg Capsules 10'S\",\"Location\": \"Row 3 Column 1\", \"Price\" : 342.43, \"Quantity\" : 4,\"Reorder_Quantity\": 65, \"Purchased_Date\":\"31-jul-21\"},\n",
        "11: {\"Supplier\" : \"Lupin\", \"Pid\" : \"p022\", \"Name\" : \"Sertraline 50 mg Tablets\",\"Location\": \"Row 2 Column 5\", \"Price\" : 456.63, \"Quantity\" : 1, \"Reorder_Quantity\": 55, \"Purchased_Date\":\"23-may-21\"},\n",
        "12: {\"Supplier\" : \"Cipla\", \"Pid\" : \"p032\", \"Name\" : \"Apetin Drop\", \"Location\": \"Row 3 Column 7\", \"Price\" : 898.43, \"Quantity\" : 2, \"Reorder_Quantity\": 33, \"Purchased_Date\":\"31-apr-21\"},\n",
        "13: {\"Supplier\" : \"Glenmark\", \"Pid\" : \"p092\", \"Name\" : \"Asar 40 Tablet\",\"Location\": \"Row 3 Column 6\", \"Price\" : 424.40, \"Quantity\" : 3, \"Reorder_Quantity\": 22, \"Purchased_Date\":\"12-aug-21\"},\n",
        "14: {\"Supplier\" : \"Glenmark\", \"Pid\" : \"p052\", \"Name\" : \"Ascodex Plus Syrup\",\"Location\": \"Row 6 Column 5\", \"Price\" : 389.00, \"Quantity\" : 3,\"Reorder_Quantity\": 44, \"Purchased_Date\":\"12-aug-21\"},\n",
        "15: {\"Supplier\" : \"Nectar Life\", \"Pid\" : \"p068\", \"Name\" : \"Paracetamol\", \"Location\": \"Row 6 Column 6\", \"Price\" : 549.09, \"Quantity\" : 5,\"Reorder_Quantity\": 34, \"Purchased_Date\":\"13-aug-21\"},\n",
        "16: {\"Supplier\" : \"FDC\", \"Pid\" : \"p099\", \"Name\" : \"Tenofovir alafenamide\",\"Location\": \"Row 5 Column 4\", \"Price\" : 2309.43, \"Quantity\" : 6 ,\"Reorder_Quantity\": 12, \"Purchased_Date\":\"15-aug-21\"},\n",
        "17: {\"Supplier\" : \"Cipla\", \"Pid\" : \"p046\", \"Name\" : \"Alerid Cold Tablet\", \"Location\": \"Row 2 Column 8\", \"Price\" : 432.56, \"Quantity\" : 6, \"Reorder_Quantity\": 23, \"Purchased_Date\":\"31-jul-21\"},\n",
        "18: {\"Supplier\" : \"Cipla\", \"Pid\" : \"p052\", \"Name\" : \"Acivir Cream\",\"Location\": \"Row 1 Column 7\", \"Price\" : 348.45, \"Quantity\" : 77,\"Reorder_Quantity\": 76, \"Purchased_Date\":\"15-aug-21\"},\n",
        "19: {\"Supplier\" : \"Nectar Life\", \"Pid\" : \"p007\", \"Name\" : \"Cetirizine\", \"Location\": \"Row 3 Column 10\", \"Price\" : 54.34, \"Quantity\" : 34, \"Reorder_Quantity\": 90, \"Purchased_Date\":\"02-jul-21\"},\n",
        "20: {\"Supplier\" : \"Johnson & Johnson\", \"Pid\" : \"p040\", \"Name\" : \"Band-Aid\",\"Location\": \"Row 1 Column 2\", \"Price\" : 5.00, \"Quantity\" : 46, \"Reorder_Quantity\": 65, \"Purchased_Date\":\"01-jun-21\"},\n",
        "21: {\"Supplier\" : \"Abbott India\", \"Pid\" : \"p005\", \"Name\" : \"Freestyle\", \"Location\": \"Row 2 Column 3\",\"Price\" : 53.50, \"Quantity\" : 34, \"Reorder_Quantity\": 65, \"Purchased_Date\":\"07-aug-21\"},22: {\"Supplier\" : \"Cipla\", \"Pid\" : \"p003\", \"Name\" : \"Zosul 1000 mg/500 mg Injection\",\"Location\": \"Row 6 Column 4\", \"Price\" : 750.53, \"Quantity\" : 54,\"Reorder_Quantity\": 32, \"Purchased_Date\":\"10-aug-21\"},\n",
        "23: {\"Supplier\" : \"Sun Pharma\", \"Pid\" : \"p075\", \"Name\" : \" Sunitinib 12.5 mg Capsule 7'S\", \"Location\": \"Row 4 Column 3\",\"Price\" : 123.00, \"Quantity\" : 23, \"Reorder_Quantity\": 0, \"Purchased_Date\":\"05-sep-21\"},\n",
        "24: {\"Supplier\" : \"Nectar Life\", \"Pid\" : \"p024\", \"Name\" : \"Azithromycin\", \"Location\": \"Row 1 Column 7\",\"Price\" : 331.44, \"Quantity\" : 34, \"Reorder_Quantity\": 34, \"Purchased_Date\":\"03-sep-21\"},\n",
        "25: {\"Supplier\" : \"Sun Pharma\", \"Pid\" : \"p023\", \"Name\" : \"Zovair 160mcg/12mcg Inhaler\", \"Location\": \"Row 6 Column 8\",\"Price\" : 123.44, \"Quantity\" : 32, \"Reorder_Quantity\": 32, \"Purchased_Date\":\"30-aug-21\"},\n",
        "26: {\"Supplier\" : \"Abbott India\", \"Pid\" : \"p015\", \"Name\" : \"Pedialyte\",\"Location\": \"Row 1 Column 1\", \"Price\" : 223.54, \"Quantity\" : 43, \"Reorder_Quantity\": 30, \"Purchased_Date\":\"28-aug-21\"},\n",
        "27: {\"Supplier\" : \"Cipla\", \"Pid\" : \"p062\", \"Name\" : \"Viraday Tablet 30'S\", \"Location\": \"Row 5 Column 5\",\"Price\" : 543.24, \"Quantity\" : 43, \"Reorder_Quantity\": 30, \"Purchased_Date\":\"12-aug-21\"},\n",
        "28: {\"Supplier\" : \"Nectar Life\", \"Pid\" : \"p027\", \"Name\" : \"Amikacin\", \"Location\": \"Row 2 Column 7\",\"Price\" : 53.22, \"Quantity\" : 87, \"Reorder_Quantity\": 25, \"Purchased_Date\":\"22-aug-21\"},\n",
        "29: {\"Supplier\" : \"FDC\", \"Pid\" : \"p065\", \"Name\" : \"Deflazacort\",\"Location\": \"Row 7 Column 7\", \"Price\" : 535.32, \"Quantity\" :0 ,\"Reorder_Quantity\": 50, \"Purchased_Date\":\"01-sep-21\"},\n",
        "30: {\"Supplier\" : \"Johnson & Johnson\", \"Pid\" : \"p042\", \"Name\" : \"Tylenol\", \"Location\": \"Row 3 Column 8\",\"Price\" : 500.43, \"Quantity\" : 0, \"Reorder_Quantity\": 40, \"Purchased_Date\":\"01-sep-21\"}}"
      ],
      "execution_count": 1,
      "outputs": []
    },
    {
      "cell_type": "code",
      "metadata": {
        "colab": {
          "base_uri": "https://localhost:8080/"
        },
        "id": "Hx4632mUqss5",
        "outputId": "e605c490-a27d-4f5b-f3ae-4e9cfd9633e8"
      },
      "source": [
        "for i in record:\n",
        "    print(i,\" = \",record[i],\"\\n\")"
      ],
      "execution_count": 2,
      "outputs": [
        {
          "output_type": "stream",
          "name": "stdout",
          "text": [
            "1  =  {'Supplier': 'Glenmark', 'Pid': 'p002', 'Name': 'Aprezo Tablet', 'Location': 'Row 3 Column 4', 'Price': 650.56, 'Quantity': 45, 'Reorder_Quantity': 21, 'Purchased_Date': '03-aug-21'} \n",
            "\n",
            "2  =  {'Supplier': 'Johnson & Johnson', 'Pid': 'p0453', 'Name': 'Ultracet', 'Location': 'Row 2 Column 2', 'Price': 422.34, 'Quantity': 67, 'Reorder_Quantity': 24, 'Purchased_Date': '04-jun-21'} \n",
            "\n",
            "3  =  {'Supplier': 'Abbott India', 'Pid': 'p047', 'Name': 'Pedia Sure', 'Location': 'Row 3 Column 3', 'Price': 760.65, 'Quantity': 0, 'Reorder_Quantity': 52, 'Purchased_Date': '01-jun-21'} \n",
            "\n",
            "4  =  {'Supplier': 'Cipla', 'Pid': 'p023', 'Name': 'Ataron Eye Drop', 'Location': 'Row 2 Column 4', 'Price': 654.4, 'Quantity': 23, 'Reorder_Quantity': 12, 'Purchased_Date': '01-jun-21'} \n",
            "\n",
            "5  =  {'Supplier': 'Cipla', 'Pid': 'p003', 'Name': 'Acemax 250mg Tablet', 'Location': 'Row 1 Column 4', 'Price': 324.0, 'Quantity': 4, 'Reorder_Quantity': 21, 'Purchased_Date': '23-jun-21'} \n",
            "\n",
            "6  =  {'Supplier': 'Abbott India', 'Pid': 'p009', 'Name': 'Ensure', 'Location': 'Row 2 Column 1', 'Price': 657.87, 'Quantity': 76, 'Reorder_Quantity': 10, 'Purchased_Date': '13-jul-21'} \n",
            "\n",
            "7  =  {'Supplier': 'Johnson & Johnson', 'Pid': 'p043', 'Name': 'Pepcid', 'Location': 'Row 4 Column 5', 'Price': 874.0, 'Quantity': 54, 'Reorder_Quantity': 10, 'Purchased_Date': '12-jul-21'} \n",
            "\n",
            "8  =  {'Supplier': 'Lupin', 'Pid': 'p072', 'Name': 'Namuscla 167 mg hard capsules', 'Location': 'Row 1 Column 3', 'Price': 896.0, 'Quantity': 87, 'Reorder_Quantity': 20, 'Purchased_Date': '02-jul-21'} \n",
            "\n",
            "9  =  {'Supplier': 'Lupin', 'Pid': 'p062', 'Name': 'Sertraline 100 mg Tablets', 'Location': 'Row 5 Column 4', 'Price': 3312.0, 'Quantity': 6, 'Reorder_Quantity': 30, 'Purchased_Date': '30-jun-21'} \n",
            "\n",
            "10  =  {'Supplier': 'Sun Pharma', 'Pid': 'p097', 'Name': \"Nintedanib 100 mg Capsules 10'S\", 'Location': 'Row 3 Column 1', 'Price': 342.43, 'Quantity': 4, 'Reorder_Quantity': 65, 'Purchased_Date': '31-jul-21'} \n",
            "\n",
            "11  =  {'Supplier': 'Lupin', 'Pid': 'p022', 'Name': 'Sertraline 50 mg Tablets', 'Location': 'Row 2 Column 5', 'Price': 456.63, 'Quantity': 1, 'Reorder_Quantity': 55, 'Purchased_Date': '23-may-21'} \n",
            "\n",
            "12  =  {'Supplier': 'Cipla', 'Pid': 'p032', 'Name': 'Apetin Drop', 'Location': 'Row 3 Column 7', 'Price': 898.43, 'Quantity': 2, 'Reorder_Quantity': 33, 'Purchased_Date': '31-apr-21'} \n",
            "\n",
            "13  =  {'Supplier': 'Glenmark', 'Pid': 'p092', 'Name': 'Asar 40 Tablet', 'Location': 'Row 3 Column 6', 'Price': 424.4, 'Quantity': 3, 'Reorder_Quantity': 22, 'Purchased_Date': '12-aug-21'} \n",
            "\n",
            "14  =  {'Supplier': 'Glenmark', 'Pid': 'p052', 'Name': 'Ascodex Plus Syrup', 'Location': 'Row 6 Column 5', 'Price': 389.0, 'Quantity': 3, 'Reorder_Quantity': 44, 'Purchased_Date': '12-aug-21'} \n",
            "\n",
            "15  =  {'Supplier': 'Nectar Life', 'Pid': 'p068', 'Name': 'Paracetamol', 'Location': 'Row 6 Column 6', 'Price': 549.09, 'Quantity': 5, 'Reorder_Quantity': 34, 'Purchased_Date': '13-aug-21'} \n",
            "\n",
            "16  =  {'Supplier': 'FDC', 'Pid': 'p099', 'Name': 'Tenofovir alafenamide', 'Location': 'Row 5 Column 4', 'Price': 2309.43, 'Quantity': 6, 'Reorder_Quantity': 12, 'Purchased_Date': '15-aug-21'} \n",
            "\n",
            "17  =  {'Supplier': 'Cipla', 'Pid': 'p046', 'Name': 'Alerid Cold Tablet', 'Location': 'Row 2 Column 8', 'Price': 432.56, 'Quantity': 6, 'Reorder_Quantity': 23, 'Purchased_Date': '31-jul-21'} \n",
            "\n",
            "18  =  {'Supplier': 'Cipla', 'Pid': 'p052', 'Name': 'Acivir Cream', 'Location': 'Row 1 Column 7', 'Price': 348.45, 'Quantity': 77, 'Reorder_Quantity': 76, 'Purchased_Date': '15-aug-21'} \n",
            "\n",
            "19  =  {'Supplier': 'Nectar Life', 'Pid': 'p007', 'Name': 'Cetirizine', 'Location': 'Row 3 Column 10', 'Price': 54.34, 'Quantity': 34, 'Reorder_Quantity': 90, 'Purchased_Date': '02-jul-21'} \n",
            "\n",
            "20  =  {'Supplier': 'Johnson & Johnson', 'Pid': 'p040', 'Name': 'Band-Aid', 'Location': 'Row 1 Column 2', 'Price': 5.0, 'Quantity': 46, 'Reorder_Quantity': 65, 'Purchased_Date': '01-jun-21'} \n",
            "\n",
            "21  =  {'Supplier': 'Abbott India', 'Pid': 'p005', 'Name': 'Freestyle', 'Location': 'Row 2 Column 3', 'Price': 53.5, 'Quantity': 34, 'Reorder_Quantity': 65, 'Purchased_Date': '07-aug-21'} \n",
            "\n",
            "22  =  {'Supplier': 'Cipla', 'Pid': 'p003', 'Name': 'Zosul 1000 mg/500 mg Injection', 'Location': 'Row 6 Column 4', 'Price': 750.53, 'Quantity': 54, 'Reorder_Quantity': 32, 'Purchased_Date': '10-aug-21'} \n",
            "\n",
            "23  =  {'Supplier': 'Sun Pharma', 'Pid': 'p075', 'Name': \" Sunitinib 12.5 mg Capsule 7'S\", 'Location': 'Row 4 Column 3', 'Price': 123.0, 'Quantity': 23, 'Reorder_Quantity': 0, 'Purchased_Date': '05-sep-21'} \n",
            "\n",
            "24  =  {'Supplier': 'Nectar Life', 'Pid': 'p024', 'Name': 'Azithromycin', 'Location': 'Row 1 Column 7', 'Price': 331.44, 'Quantity': 34, 'Reorder_Quantity': 34, 'Purchased_Date': '03-sep-21'} \n",
            "\n",
            "25  =  {'Supplier': 'Sun Pharma', 'Pid': 'p023', 'Name': 'Zovair 160mcg/12mcg Inhaler', 'Location': 'Row 6 Column 8', 'Price': 123.44, 'Quantity': 32, 'Reorder_Quantity': 32, 'Purchased_Date': '30-aug-21'} \n",
            "\n",
            "26  =  {'Supplier': 'Abbott India', 'Pid': 'p015', 'Name': 'Pedialyte', 'Location': 'Row 1 Column 1', 'Price': 223.54, 'Quantity': 43, 'Reorder_Quantity': 30, 'Purchased_Date': '28-aug-21'} \n",
            "\n",
            "27  =  {'Supplier': 'Cipla', 'Pid': 'p062', 'Name': \"Viraday Tablet 30'S\", 'Location': 'Row 5 Column 5', 'Price': 543.24, 'Quantity': 43, 'Reorder_Quantity': 30, 'Purchased_Date': '12-aug-21'} \n",
            "\n",
            "28  =  {'Supplier': 'Nectar Life', 'Pid': 'p027', 'Name': 'Amikacin', 'Location': 'Row 2 Column 7', 'Price': 53.22, 'Quantity': 87, 'Reorder_Quantity': 25, 'Purchased_Date': '22-aug-21'} \n",
            "\n",
            "29  =  {'Supplier': 'FDC', 'Pid': 'p065', 'Name': 'Deflazacort', 'Location': 'Row 7 Column 7', 'Price': 535.32, 'Quantity': 0, 'Reorder_Quantity': 50, 'Purchased_Date': '01-sep-21'} \n",
            "\n",
            "30  =  {'Supplier': 'Johnson & Johnson', 'Pid': 'p042', 'Name': 'Tylenol', 'Location': 'Row 3 Column 8', 'Price': 500.43, 'Quantity': 0, 'Reorder_Quantity': 40, 'Purchased_Date': '01-sep-21'} \n",
            "\n"
          ]
        }
      ]
    },
    {
      "cell_type": "code",
      "metadata": {
        "id": "jYojfEt2qw6Y"
      },
      "source": [
        "import json\n",
        "js=json.dumps(record)"
      ],
      "execution_count": 3,
      "outputs": []
    },
    {
      "cell_type": "code",
      "metadata": {
        "colab": {
          "base_uri": "https://localhost:8080/",
          "height": 1000
        },
        "id": "dKvJpmcmq6Lx",
        "outputId": "3f0e3933-feab-4250-b782-827286b5be68"
      },
      "source": [
        "js"
      ],
      "execution_count": 4,
      "outputs": [
        {
          "output_type": "execute_result",
          "data": {
            "application/vnd.google.colaboratory.intrinsic+json": {
              "type": "string"
            },
            "text/plain": [
              "'{\"1\": {\"Supplier\": \"Glenmark\", \"Pid\": \"p002\", \"Name\": \"Aprezo Tablet\", \"Location\": \"Row 3 Column 4\", \"Price\": 650.56, \"Quantity\": 45, \"Reorder_Quantity\": 21, \"Purchased_Date\": \"03-aug-21\"}, \"2\": {\"Supplier\": \"Johnson & Johnson\", \"Pid\": \"p0453\", \"Name\": \"Ultracet\", \"Location\": \"Row 2 Column 2\", \"Price\": 422.34, \"Quantity\": 67, \"Reorder_Quantity\": 24, \"Purchased_Date\": \"04-jun-21\"}, \"3\": {\"Supplier\": \"Abbott India\", \"Pid\": \"p047\", \"Name\": \"Pedia Sure\", \"Location\": \"Row 3 Column 3\", \"Price\": 760.65, \"Quantity\": 0, \"Reorder_Quantity\": 52, \"Purchased_Date\": \"01-jun-21\"}, \"4\": {\"Supplier\": \"Cipla\", \"Pid\": \"p023\", \"Name\": \"Ataron Eye Drop\", \"Location\": \"Row 2 Column 4\", \"Price\": 654.4, \"Quantity\": 23, \"Reorder_Quantity\": 12, \"Purchased_Date\": \"01-jun-21\"}, \"5\": {\"Supplier\": \"Cipla\", \"Pid\": \"p003\", \"Name\": \"Acemax 250mg Tablet\", \"Location\": \"Row 1 Column 4\", \"Price\": 324.0, \"Quantity\": 4, \"Reorder_Quantity\": 21, \"Purchased_Date\": \"23-jun-21\"}, \"6\": {\"Supplier\": \"Abbott India\", \"Pid\": \"p009\", \"Name\": \"Ensure\", \"Location\": \"Row 2 Column 1\", \"Price\": 657.87, \"Quantity\": 76, \"Reorder_Quantity\": 10, \"Purchased_Date\": \"13-jul-21\"}, \"7\": {\"Supplier\": \"Johnson & Johnson\", \"Pid\": \"p043\", \"Name\": \"Pepcid\", \"Location\": \"Row 4 Column 5\", \"Price\": 874.0, \"Quantity\": 54, \"Reorder_Quantity\": 10, \"Purchased_Date\": \"12-jul-21\"}, \"8\": {\"Supplier\": \"Lupin\", \"Pid\": \"p072\", \"Name\": \"Namuscla 167 mg hard capsules\", \"Location\": \"Row 1 Column 3\", \"Price\": 896.0, \"Quantity\": 87, \"Reorder_Quantity\": 20, \"Purchased_Date\": \"02-jul-21\"}, \"9\": {\"Supplier\": \"Lupin\", \"Pid\": \"p062\", \"Name\": \"Sertraline 100 mg Tablets\", \"Location\": \"Row 5 Column 4\", \"Price\": 3312.0, \"Quantity\": 6, \"Reorder_Quantity\": 30, \"Purchased_Date\": \"30-jun-21\"}, \"10\": {\"Supplier\": \"Sun Pharma\", \"Pid\": \"p097\", \"Name\": \"Nintedanib 100 mg Capsules 10\\'S\", \"Location\": \"Row 3 Column 1\", \"Price\": 342.43, \"Quantity\": 4, \"Reorder_Quantity\": 65, \"Purchased_Date\": \"31-jul-21\"}, \"11\": {\"Supplier\": \"Lupin\", \"Pid\": \"p022\", \"Name\": \"Sertraline 50 mg Tablets\", \"Location\": \"Row 2 Column 5\", \"Price\": 456.63, \"Quantity\": 1, \"Reorder_Quantity\": 55, \"Purchased_Date\": \"23-may-21\"}, \"12\": {\"Supplier\": \"Cipla\", \"Pid\": \"p032\", \"Name\": \"Apetin Drop\", \"Location\": \"Row 3 Column 7\", \"Price\": 898.43, \"Quantity\": 2, \"Reorder_Quantity\": 33, \"Purchased_Date\": \"31-apr-21\"}, \"13\": {\"Supplier\": \"Glenmark\", \"Pid\": \"p092\", \"Name\": \"Asar 40 Tablet\", \"Location\": \"Row 3 Column 6\", \"Price\": 424.4, \"Quantity\": 3, \"Reorder_Quantity\": 22, \"Purchased_Date\": \"12-aug-21\"}, \"14\": {\"Supplier\": \"Glenmark\", \"Pid\": \"p052\", \"Name\": \"Ascodex Plus Syrup\", \"Location\": \"Row 6 Column 5\", \"Price\": 389.0, \"Quantity\": 3, \"Reorder_Quantity\": 44, \"Purchased_Date\": \"12-aug-21\"}, \"15\": {\"Supplier\": \"Nectar Life\", \"Pid\": \"p068\", \"Name\": \"Paracetamol\", \"Location\": \"Row 6 Column 6\", \"Price\": 549.09, \"Quantity\": 5, \"Reorder_Quantity\": 34, \"Purchased_Date\": \"13-aug-21\"}, \"16\": {\"Supplier\": \"FDC\", \"Pid\": \"p099\", \"Name\": \"Tenofovir alafenamide\", \"Location\": \"Row 5 Column 4\", \"Price\": 2309.43, \"Quantity\": 6, \"Reorder_Quantity\": 12, \"Purchased_Date\": \"15-aug-21\"}, \"17\": {\"Supplier\": \"Cipla\", \"Pid\": \"p046\", \"Name\": \"Alerid Cold Tablet\", \"Location\": \"Row 2 Column 8\", \"Price\": 432.56, \"Quantity\": 6, \"Reorder_Quantity\": 23, \"Purchased_Date\": \"31-jul-21\"}, \"18\": {\"Supplier\": \"Cipla\", \"Pid\": \"p052\", \"Name\": \"Acivir Cream\", \"Location\": \"Row 1 Column 7\", \"Price\": 348.45, \"Quantity\": 77, \"Reorder_Quantity\": 76, \"Purchased_Date\": \"15-aug-21\"}, \"19\": {\"Supplier\": \"Nectar Life\", \"Pid\": \"p007\", \"Name\": \"Cetirizine\", \"Location\": \"Row 3 Column 10\", \"Price\": 54.34, \"Quantity\": 34, \"Reorder_Quantity\": 90, \"Purchased_Date\": \"02-jul-21\"}, \"20\": {\"Supplier\": \"Johnson & Johnson\", \"Pid\": \"p040\", \"Name\": \"Band-Aid\", \"Location\": \"Row 1 Column 2\", \"Price\": 5.0, \"Quantity\": 46, \"Reorder_Quantity\": 65, \"Purchased_Date\": \"01-jun-21\"}, \"21\": {\"Supplier\": \"Abbott India\", \"Pid\": \"p005\", \"Name\": \"Freestyle\", \"Location\": \"Row 2 Column 3\", \"Price\": 53.5, \"Quantity\": 34, \"Reorder_Quantity\": 65, \"Purchased_Date\": \"07-aug-21\"}, \"22\": {\"Supplier\": \"Cipla\", \"Pid\": \"p003\", \"Name\": \"Zosul 1000 mg/500 mg Injection\", \"Location\": \"Row 6 Column 4\", \"Price\": 750.53, \"Quantity\": 54, \"Reorder_Quantity\": 32, \"Purchased_Date\": \"10-aug-21\"}, \"23\": {\"Supplier\": \"Sun Pharma\", \"Pid\": \"p075\", \"Name\": \" Sunitinib 12.5 mg Capsule 7\\'S\", \"Location\": \"Row 4 Column 3\", \"Price\": 123.0, \"Quantity\": 23, \"Reorder_Quantity\": 0, \"Purchased_Date\": \"05-sep-21\"}, \"24\": {\"Supplier\": \"Nectar Life\", \"Pid\": \"p024\", \"Name\": \"Azithromycin\", \"Location\": \"Row 1 Column 7\", \"Price\": 331.44, \"Quantity\": 34, \"Reorder_Quantity\": 34, \"Purchased_Date\": \"03-sep-21\"}, \"25\": {\"Supplier\": \"Sun Pharma\", \"Pid\": \"p023\", \"Name\": \"Zovair 160mcg/12mcg Inhaler\", \"Location\": \"Row 6 Column 8\", \"Price\": 123.44, \"Quantity\": 32, \"Reorder_Quantity\": 32, \"Purchased_Date\": \"30-aug-21\"}, \"26\": {\"Supplier\": \"Abbott India\", \"Pid\": \"p015\", \"Name\": \"Pedialyte\", \"Location\": \"Row 1 Column 1\", \"Price\": 223.54, \"Quantity\": 43, \"Reorder_Quantity\": 30, \"Purchased_Date\": \"28-aug-21\"}, \"27\": {\"Supplier\": \"Cipla\", \"Pid\": \"p062\", \"Name\": \"Viraday Tablet 30\\'S\", \"Location\": \"Row 5 Column 5\", \"Price\": 543.24, \"Quantity\": 43, \"Reorder_Quantity\": 30, \"Purchased_Date\": \"12-aug-21\"}, \"28\": {\"Supplier\": \"Nectar Life\", \"Pid\": \"p027\", \"Name\": \"Amikacin\", \"Location\": \"Row 2 Column 7\", \"Price\": 53.22, \"Quantity\": 87, \"Reorder_Quantity\": 25, \"Purchased_Date\": \"22-aug-21\"}, \"29\": {\"Supplier\": \"FDC\", \"Pid\": \"p065\", \"Name\": \"Deflazacort\", \"Location\": \"Row 7 Column 7\", \"Price\": 535.32, \"Quantity\": 0, \"Reorder_Quantity\": 50, \"Purchased_Date\": \"01-sep-21\"}, \"30\": {\"Supplier\": \"Johnson & Johnson\", \"Pid\": \"p042\", \"Name\": \"Tylenol\", \"Location\": \"Row 3 Column 8\", \"Price\": 500.43, \"Quantity\": 0, \"Reorder_Quantity\": 40, \"Purchased_Date\": \"01-sep-21\"}}'"
            ]
          },
          "metadata": {},
          "execution_count": 4
        }
      ]
    },
    {
      "cell_type": "code",
      "metadata": {
        "id": "sbLUgOMwq-Xx"
      },
      "source": [
        "fd=open(\"record.json\",\"w\")    \n",
        "fd.write(js)\n",
        "fd.close()"
      ],
      "execution_count": 5,
      "outputs": []
    },
    {
      "cell_type": "code",
      "metadata": {
        "colab": {
          "base_uri": "https://localhost:8080/"
        },
        "id": "8qMQ6tS4rKWL",
        "outputId": "a06678b2-396f-45c7-c4be-884976f8c8f8"
      },
      "source": [
        "fd=open(\"record.json\",\"r\")\n",
        "txt=fd.read()\n",
        "fd.close()\n",
        "type(txt)"
      ],
      "execution_count": 6,
      "outputs": [
        {
          "output_type": "execute_result",
          "data": {
            "text/plain": [
              "str"
            ]
          },
          "metadata": {},
          "execution_count": 6
        }
      ]
    },
    {
      "cell_type": "code",
      "metadata": {
        "colab": {
          "base_uri": "https://localhost:8080/",
          "height": 221
        },
        "id": "Z8fwbmjurNt4",
        "outputId": "4d700c90-7e32-4f58-e458-a562df32d431"
      },
      "source": [
        "txt"
      ],
      "execution_count": 7,
      "outputs": [
        {
          "output_type": "execute_result",
          "data": {
            "application/vnd.google.colaboratory.intrinsic+json": {
              "type": "string"
            },
            "text/plain": [
              "'{\"1\": {\"Supplier\": \"Glenmark\", \"Pid\": \"p002\", \"Name\": \"Aprezo Tablet\", \"Location\": \"Row 3 Column 4\", \"Price\": 650.56, \"Quantity\": 45, \"Reorder_Quantity\": 21, \"Purchased_Date\": \"03-aug-21\"}, \"2\": {\"Supplier\": \"Johnson & Johnson\", \"Pid\": \"p0453\", \"Name\": \"Ultracet\", \"Location\": \"Row 2 Column 2\", \"Price\": 422.34, \"Quantity\": 67, \"Reorder_Quantity\": 24, \"Purchased_Date\": \"04-jun-21\"}, \"3\": {\"Supplier\": \"Abbott India\", \"Pid\": \"p047\", \"Name\": \"Pedia Sure\", \"Location\": \"Row 3 Column 3\", \"Price\": 760.65, \"Quantity\": 0, \"Reorder_Quantity\": 52, \"Purchased_Date\": \"01-jun-21\"}, \"4\": {\"Supplier\": \"Cipla\", \"Pid\": \"p023\", \"Name\": \"Ataron Eye Drop\", \"Location\": \"Row 2 Column 4\", \"Price\": 654.4, \"Quantity\": 23, \"Reorder_Quantity\": 12, \"Purchased_Date\": \"01-jun-21\"}, \"5\": {\"Supplier\": \"Cipla\", \"Pid\": \"p003\", \"Name\": \"Acemax 250mg Tablet\", \"Location\": \"Row 1 Column 4\", \"Price\": 324.0, \"Quantity\": 4, \"Reorder_Quantity\": 21, \"Purchased_Date\": \"23-jun-21\"}, \"6\": {\"Supplier\": \"Abbott India\", \"Pid\": \"p009\", \"Name\": \"Ensure\", \"Location\": \"Row 2 Column 1\", \"Price\": 657.87, \"Quantity\": 76, \"Reorder_Quantity\": 10, \"Purchased_Date\": \"13-jul-21\"}, \"7\": {\"Supplier\": \"Johnson & Johnson\", \"Pid\": \"p043\", \"Name\": \"Pepcid\", \"Location\": \"Row 4 Column 5\", \"Price\": 874.0, \"Quantity\": 54, \"Reorder_Quantity\": 10, \"Purchased_Date\": \"12-jul-21\"}, \"8\": {\"Supplier\": \"Lupin\", \"Pid\": \"p072\", \"Name\": \"Namuscla 167 mg hard capsules\", \"Location\": \"Row 1 Column 3\", \"Price\": 896.0, \"Quantity\": 87, \"Reorder_Quantity\": 20, \"Purchased_Date\": \"02-jul-21\"}, \"9\": {\"Supplier\": \"Lupin\", \"Pid\": \"p062\", \"Name\": \"Sertraline 100 mg Tablets\", \"Location\": \"Row 5 Column 4\", \"Price\": 3312.0, \"Quantity\": 6, \"Reorder_Quantity\": 30, \"Purchased_Date\": \"30-jun-21\"}, \"10\": {\"Supplier\": \"Sun Pharma\", \"Pid\": \"p097\", \"Name\": \"Nintedanib 100 mg Capsules 10\\'S\", \"Location\": \"Row 3 Column 1\", \"Price\": 342.43, \"Quantity\": 4, \"Reorder_Quantity\": 65, \"Purchased_Date\": \"31-jul-21\"}, \"11\": {\"Supplier\": \"Lupin\", \"Pid\": \"p022\", \"Name\": \"Sertraline 50 mg Tablets\", \"Location\": \"Row 2 Column 5\", \"Price\": 456.63, \"Quantity\": 1, \"Reorder_Quantity\": 55, \"Purchased_Date\": \"23-may-21\"}, \"12\": {\"Supplier\": \"Cipla\", \"Pid\": \"p032\", \"Name\": \"Apetin Drop\", \"Location\": \"Row 3 Column 7\", \"Price\": 898.43, \"Quantity\": 2, \"Reorder_Quantity\": 33, \"Purchased_Date\": \"31-apr-21\"}, \"13\": {\"Supplier\": \"Glenmark\", \"Pid\": \"p092\", \"Name\": \"Asar 40 Tablet\", \"Location\": \"Row 3 Column 6\", \"Price\": 424.4, \"Quantity\": 3, \"Reorder_Quantity\": 22, \"Purchased_Date\": \"12-aug-21\"}, \"14\": {\"Supplier\": \"Glenmark\", \"Pid\": \"p052\", \"Name\": \"Ascodex Plus Syrup\", \"Location\": \"Row 6 Column 5\", \"Price\": 389.0, \"Quantity\": 3, \"Reorder_Quantity\": 44, \"Purchased_Date\": \"12-aug-21\"}, \"15\": {\"Supplier\": \"Nectar Life\", \"Pid\": \"p068\", \"Name\": \"Paracetamol\", \"Location\": \"Row 6 Column 6\", \"Price\": 549.09, \"Quantity\": 5, \"Reorder_Quantity\": 34, \"Purchased_Date\": \"13-aug-21\"}, \"16\": {\"Supplier\": \"FDC\", \"Pid\": \"p099\", \"Name\": \"Tenofovir alafenamide\", \"Location\": \"Row 5 Column 4\", \"Price\": 2309.43, \"Quantity\": 6, \"Reorder_Quantity\": 12, \"Purchased_Date\": \"15-aug-21\"}, \"17\": {\"Supplier\": \"Cipla\", \"Pid\": \"p046\", \"Name\": \"Alerid Cold Tablet\", \"Location\": \"Row 2 Column 8\", \"Price\": 432.56, \"Quantity\": 6, \"Reorder_Quantity\": 23, \"Purchased_Date\": \"31-jul-21\"}, \"18\": {\"Supplier\": \"Cipla\", \"Pid\": \"p052\", \"Name\": \"Acivir Cream\", \"Location\": \"Row 1 Column 7\", \"Price\": 348.45, \"Quantity\": 77, \"Reorder_Quantity\": 76, \"Purchased_Date\": \"15-aug-21\"}, \"19\": {\"Supplier\": \"Nectar Life\", \"Pid\": \"p007\", \"Name\": \"Cetirizine\", \"Location\": \"Row 3 Column 10\", \"Price\": 54.34, \"Quantity\": 34, \"Reorder_Quantity\": 90, \"Purchased_Date\": \"02-jul-21\"}, \"20\": {\"Supplier\": \"Johnson & Johnson\", \"Pid\": \"p040\", \"Name\": \"Band-Aid\", \"Location\": \"Row 1 Column 2\", \"Price\": 5.0, \"Quantity\": 46, \"Reorder_Quantity\": 65, \"Purchased_Date\": \"01-jun-21\"}, \"21\": {\"Supplier\": \"Abbott India\", \"Pid\": \"p005\", \"Name\": \"Freestyle\", \"Location\": \"Row 2 Column 3\", \"Price\": 53.5, \"Quantity\": 34, \"Reorder_Quantity\": 65, \"Purchased_Date\": \"07-aug-21\"}, \"22\": {\"Supplier\": \"Cipla\", \"Pid\": \"p003\", \"Name\": \"Zosul 1000 mg/500 mg Injection\", \"Location\": \"Row 6 Column 4\", \"Price\": 750.53, \"Quantity\": 54, \"Reorder_Quantity\": 32, \"Purchased_Date\": \"10-aug-21\"}, \"23\": {\"Supplier\": \"Sun Pharma\", \"Pid\": \"p075\", \"Name\": \" Sunitinib 12.5 mg Capsule 7\\'S\", \"Location\": \"Row 4 Column 3\", \"Price\": 123.0, \"Quantity\": 23, \"Reorder_Quantity\": 0, \"Purchased_Date\": \"05-sep-21\"}, \"24\": {\"Supplier\": \"Nectar Life\", \"Pid\": \"p024\", \"Name\": \"Azithromycin\", \"Location\": \"Row 1 Column 7\", \"Price\": 331.44, \"Quantity\": 34, \"Reorder_Quantity\": 34, \"Purchased_Date\": \"03-sep-21\"}, \"25\": {\"Supplier\": \"Sun Pharma\", \"Pid\": \"p023\", \"Name\": \"Zovair 160mcg/12mcg Inhaler\", \"Location\": \"Row 6 Column 8\", \"Price\": 123.44, \"Quantity\": 32, \"Reorder_Quantity\": 32, \"Purchased_Date\": \"30-aug-21\"}, \"26\": {\"Supplier\": \"Abbott India\", \"Pid\": \"p015\", \"Name\": \"Pedialyte\", \"Location\": \"Row 1 Column 1\", \"Price\": 223.54, \"Quantity\": 43, \"Reorder_Quantity\": 30, \"Purchased_Date\": \"28-aug-21\"}, \"27\": {\"Supplier\": \"Cipla\", \"Pid\": \"p062\", \"Name\": \"Viraday Tablet 30\\'S\", \"Location\": \"Row 5 Column 5\", \"Price\": 543.24, \"Quantity\": 43, \"Reorder_Quantity\": 30, \"Purchased_Date\": \"12-aug-21\"}, \"28\": {\"Supplier\": \"Nectar Life\", \"Pid\": \"p027\", \"Name\": \"Amikacin\", \"Location\": \"Row 2 Column 7\", \"Price\": 53.22, \"Quantity\": 87, \"Reorder_Quantity\": 25, \"Purchased_Date\": \"22-aug-21\"}, \"29\": {\"Supplier\": \"FDC\", \"Pid\": \"p065\", \"Name\": \"Deflazacort\", \"Location\": \"Row 7 Column 7\", \"Price\": 535.32, \"Quantity\": 0, \"Reorder_Quantity\": 50, \"Purchased_Date\": \"01-sep-21\"}, \"30\": {\"Supplier\": \"Johnson & Johnson\", \"Pid\": \"p042\", \"Name\": \"Tylenol\", \"Location\": \"Row 3 Column 8\", \"Price\": 500.43, \"Quantity\": 0, \"Reorder_Quantity\": 40, \"Purchased_Date\": \"01-sep-21\"}}'"
            ]
          },
          "metadata": {},
          "execution_count": 7
        }
      ]
    },
    {
      "cell_type": "code",
      "metadata": {
        "colab": {
          "base_uri": "https://localhost:8080/"
        },
        "id": "j7ymzP-QrRbK",
        "outputId": "bc265297-3e06-4c51-983a-eda8e9a4721b"
      },
      "source": [
        "jd=json.loads(txt)\n",
        "type(jd)"
      ],
      "execution_count": 8,
      "outputs": [
        {
          "output_type": "execute_result",
          "data": {
            "text/plain": [
              "dict"
            ]
          },
          "metadata": {},
          "execution_count": 8
        }
      ]
    },
    {
      "cell_type": "code",
      "metadata": {
        "colab": {
          "base_uri": "https://localhost:8080/"
        },
        "id": "-a1atxIAreCC",
        "outputId": "5368d68c-f104-4659-9613-3adac0490248"
      },
      "source": [
        "jd"
      ],
      "execution_count": 9,
      "outputs": [
        {
          "output_type": "execute_result",
          "data": {
            "text/plain": [
              "{'1': {'Location': 'Row 3 Column 4',\n",
              "  'Name': 'Aprezo Tablet',\n",
              "  'Pid': 'p002',\n",
              "  'Price': 650.56,\n",
              "  'Purchased_Date': '03-aug-21',\n",
              "  'Quantity': 45,\n",
              "  'Reorder_Quantity': 21,\n",
              "  'Supplier': 'Glenmark'},\n",
              " '10': {'Location': 'Row 3 Column 1',\n",
              "  'Name': \"Nintedanib 100 mg Capsules 10'S\",\n",
              "  'Pid': 'p097',\n",
              "  'Price': 342.43,\n",
              "  'Purchased_Date': '31-jul-21',\n",
              "  'Quantity': 4,\n",
              "  'Reorder_Quantity': 65,\n",
              "  'Supplier': 'Sun Pharma'},\n",
              " '11': {'Location': 'Row 2 Column 5',\n",
              "  'Name': 'Sertraline 50 mg Tablets',\n",
              "  'Pid': 'p022',\n",
              "  'Price': 456.63,\n",
              "  'Purchased_Date': '23-may-21',\n",
              "  'Quantity': 1,\n",
              "  'Reorder_Quantity': 55,\n",
              "  'Supplier': 'Lupin'},\n",
              " '12': {'Location': 'Row 3 Column 7',\n",
              "  'Name': 'Apetin Drop',\n",
              "  'Pid': 'p032',\n",
              "  'Price': 898.43,\n",
              "  'Purchased_Date': '31-apr-21',\n",
              "  'Quantity': 2,\n",
              "  'Reorder_Quantity': 33,\n",
              "  'Supplier': 'Cipla'},\n",
              " '13': {'Location': 'Row 3 Column 6',\n",
              "  'Name': 'Asar 40 Tablet',\n",
              "  'Pid': 'p092',\n",
              "  'Price': 424.4,\n",
              "  'Purchased_Date': '12-aug-21',\n",
              "  'Quantity': 3,\n",
              "  'Reorder_Quantity': 22,\n",
              "  'Supplier': 'Glenmark'},\n",
              " '14': {'Location': 'Row 6 Column 5',\n",
              "  'Name': 'Ascodex Plus Syrup',\n",
              "  'Pid': 'p052',\n",
              "  'Price': 389.0,\n",
              "  'Purchased_Date': '12-aug-21',\n",
              "  'Quantity': 3,\n",
              "  'Reorder_Quantity': 44,\n",
              "  'Supplier': 'Glenmark'},\n",
              " '15': {'Location': 'Row 6 Column 6',\n",
              "  'Name': 'Paracetamol',\n",
              "  'Pid': 'p068',\n",
              "  'Price': 549.09,\n",
              "  'Purchased_Date': '13-aug-21',\n",
              "  'Quantity': 5,\n",
              "  'Reorder_Quantity': 34,\n",
              "  'Supplier': 'Nectar Life'},\n",
              " '16': {'Location': 'Row 5 Column 4',\n",
              "  'Name': 'Tenofovir alafenamide',\n",
              "  'Pid': 'p099',\n",
              "  'Price': 2309.43,\n",
              "  'Purchased_Date': '15-aug-21',\n",
              "  'Quantity': 6,\n",
              "  'Reorder_Quantity': 12,\n",
              "  'Supplier': 'FDC'},\n",
              " '17': {'Location': 'Row 2 Column 8',\n",
              "  'Name': 'Alerid Cold Tablet',\n",
              "  'Pid': 'p046',\n",
              "  'Price': 432.56,\n",
              "  'Purchased_Date': '31-jul-21',\n",
              "  'Quantity': 6,\n",
              "  'Reorder_Quantity': 23,\n",
              "  'Supplier': 'Cipla'},\n",
              " '18': {'Location': 'Row 1 Column 7',\n",
              "  'Name': 'Acivir Cream',\n",
              "  'Pid': 'p052',\n",
              "  'Price': 348.45,\n",
              "  'Purchased_Date': '15-aug-21',\n",
              "  'Quantity': 77,\n",
              "  'Reorder_Quantity': 76,\n",
              "  'Supplier': 'Cipla'},\n",
              " '19': {'Location': 'Row 3 Column 10',\n",
              "  'Name': 'Cetirizine',\n",
              "  'Pid': 'p007',\n",
              "  'Price': 54.34,\n",
              "  'Purchased_Date': '02-jul-21',\n",
              "  'Quantity': 34,\n",
              "  'Reorder_Quantity': 90,\n",
              "  'Supplier': 'Nectar Life'},\n",
              " '2': {'Location': 'Row 2 Column 2',\n",
              "  'Name': 'Ultracet',\n",
              "  'Pid': 'p0453',\n",
              "  'Price': 422.34,\n",
              "  'Purchased_Date': '04-jun-21',\n",
              "  'Quantity': 67,\n",
              "  'Reorder_Quantity': 24,\n",
              "  'Supplier': 'Johnson & Johnson'},\n",
              " '20': {'Location': 'Row 1 Column 2',\n",
              "  'Name': 'Band-Aid',\n",
              "  'Pid': 'p040',\n",
              "  'Price': 5.0,\n",
              "  'Purchased_Date': '01-jun-21',\n",
              "  'Quantity': 46,\n",
              "  'Reorder_Quantity': 65,\n",
              "  'Supplier': 'Johnson & Johnson'},\n",
              " '21': {'Location': 'Row 2 Column 3',\n",
              "  'Name': 'Freestyle',\n",
              "  'Pid': 'p005',\n",
              "  'Price': 53.5,\n",
              "  'Purchased_Date': '07-aug-21',\n",
              "  'Quantity': 34,\n",
              "  'Reorder_Quantity': 65,\n",
              "  'Supplier': 'Abbott India'},\n",
              " '22': {'Location': 'Row 6 Column 4',\n",
              "  'Name': 'Zosul 1000 mg/500 mg Injection',\n",
              "  'Pid': 'p003',\n",
              "  'Price': 750.53,\n",
              "  'Purchased_Date': '10-aug-21',\n",
              "  'Quantity': 54,\n",
              "  'Reorder_Quantity': 32,\n",
              "  'Supplier': 'Cipla'},\n",
              " '23': {'Location': 'Row 4 Column 3',\n",
              "  'Name': \" Sunitinib 12.5 mg Capsule 7'S\",\n",
              "  'Pid': 'p075',\n",
              "  'Price': 123.0,\n",
              "  'Purchased_Date': '05-sep-21',\n",
              "  'Quantity': 23,\n",
              "  'Reorder_Quantity': 0,\n",
              "  'Supplier': 'Sun Pharma'},\n",
              " '24': {'Location': 'Row 1 Column 7',\n",
              "  'Name': 'Azithromycin',\n",
              "  'Pid': 'p024',\n",
              "  'Price': 331.44,\n",
              "  'Purchased_Date': '03-sep-21',\n",
              "  'Quantity': 34,\n",
              "  'Reorder_Quantity': 34,\n",
              "  'Supplier': 'Nectar Life'},\n",
              " '25': {'Location': 'Row 6 Column 8',\n",
              "  'Name': 'Zovair 160mcg/12mcg Inhaler',\n",
              "  'Pid': 'p023',\n",
              "  'Price': 123.44,\n",
              "  'Purchased_Date': '30-aug-21',\n",
              "  'Quantity': 32,\n",
              "  'Reorder_Quantity': 32,\n",
              "  'Supplier': 'Sun Pharma'},\n",
              " '26': {'Location': 'Row 1 Column 1',\n",
              "  'Name': 'Pedialyte',\n",
              "  'Pid': 'p015',\n",
              "  'Price': 223.54,\n",
              "  'Purchased_Date': '28-aug-21',\n",
              "  'Quantity': 43,\n",
              "  'Reorder_Quantity': 30,\n",
              "  'Supplier': 'Abbott India'},\n",
              " '27': {'Location': 'Row 5 Column 5',\n",
              "  'Name': \"Viraday Tablet 30'S\",\n",
              "  'Pid': 'p062',\n",
              "  'Price': 543.24,\n",
              "  'Purchased_Date': '12-aug-21',\n",
              "  'Quantity': 43,\n",
              "  'Reorder_Quantity': 30,\n",
              "  'Supplier': 'Cipla'},\n",
              " '28': {'Location': 'Row 2 Column 7',\n",
              "  'Name': 'Amikacin',\n",
              "  'Pid': 'p027',\n",
              "  'Price': 53.22,\n",
              "  'Purchased_Date': '22-aug-21',\n",
              "  'Quantity': 87,\n",
              "  'Reorder_Quantity': 25,\n",
              "  'Supplier': 'Nectar Life'},\n",
              " '29': {'Location': 'Row 7 Column 7',\n",
              "  'Name': 'Deflazacort',\n",
              "  'Pid': 'p065',\n",
              "  'Price': 535.32,\n",
              "  'Purchased_Date': '01-sep-21',\n",
              "  'Quantity': 0,\n",
              "  'Reorder_Quantity': 50,\n",
              "  'Supplier': 'FDC'},\n",
              " '3': {'Location': 'Row 3 Column 3',\n",
              "  'Name': 'Pedia Sure',\n",
              "  'Pid': 'p047',\n",
              "  'Price': 760.65,\n",
              "  'Purchased_Date': '01-jun-21',\n",
              "  'Quantity': 0,\n",
              "  'Reorder_Quantity': 52,\n",
              "  'Supplier': 'Abbott India'},\n",
              " '30': {'Location': 'Row 3 Column 8',\n",
              "  'Name': 'Tylenol',\n",
              "  'Pid': 'p042',\n",
              "  'Price': 500.43,\n",
              "  'Purchased_Date': '01-sep-21',\n",
              "  'Quantity': 0,\n",
              "  'Reorder_Quantity': 40,\n",
              "  'Supplier': 'Johnson & Johnson'},\n",
              " '4': {'Location': 'Row 2 Column 4',\n",
              "  'Name': 'Ataron Eye Drop',\n",
              "  'Pid': 'p023',\n",
              "  'Price': 654.4,\n",
              "  'Purchased_Date': '01-jun-21',\n",
              "  'Quantity': 23,\n",
              "  'Reorder_Quantity': 12,\n",
              "  'Supplier': 'Cipla'},\n",
              " '5': {'Location': 'Row 1 Column 4',\n",
              "  'Name': 'Acemax 250mg Tablet',\n",
              "  'Pid': 'p003',\n",
              "  'Price': 324.0,\n",
              "  'Purchased_Date': '23-jun-21',\n",
              "  'Quantity': 4,\n",
              "  'Reorder_Quantity': 21,\n",
              "  'Supplier': 'Cipla'},\n",
              " '6': {'Location': 'Row 2 Column 1',\n",
              "  'Name': 'Ensure',\n",
              "  'Pid': 'p009',\n",
              "  'Price': 657.87,\n",
              "  'Purchased_Date': '13-jul-21',\n",
              "  'Quantity': 76,\n",
              "  'Reorder_Quantity': 10,\n",
              "  'Supplier': 'Abbott India'},\n",
              " '7': {'Location': 'Row 4 Column 5',\n",
              "  'Name': 'Pepcid',\n",
              "  'Pid': 'p043',\n",
              "  'Price': 874.0,\n",
              "  'Purchased_Date': '12-jul-21',\n",
              "  'Quantity': 54,\n",
              "  'Reorder_Quantity': 10,\n",
              "  'Supplier': 'Johnson & Johnson'},\n",
              " '8': {'Location': 'Row 1 Column 3',\n",
              "  'Name': 'Namuscla 167 mg hard capsules',\n",
              "  'Pid': 'p072',\n",
              "  'Price': 896.0,\n",
              "  'Purchased_Date': '02-jul-21',\n",
              "  'Quantity': 87,\n",
              "  'Reorder_Quantity': 20,\n",
              "  'Supplier': 'Lupin'},\n",
              " '9': {'Location': 'Row 5 Column 4',\n",
              "  'Name': 'Sertraline 100 mg Tablets',\n",
              "  'Pid': 'p062',\n",
              "  'Price': 3312.0,\n",
              "  'Purchased_Date': '30-jun-21',\n",
              "  'Quantity': 6,\n",
              "  'Reorder_Quantity': 30,\n",
              "  'Supplier': 'Lupin'}}"
            ]
          },
          "metadata": {},
          "execution_count": 9
        }
      ]
    },
    {
      "cell_type": "code",
      "metadata": {
        "colab": {
          "base_uri": "https://localhost:8080/"
        },
        "id": "IyaqTOjnrkbf",
        "outputId": "0ab0fa37-b4bb-4864-b573-e7a5e26888fd"
      },
      "source": [
        "nme=input(\"ENTER NAME: \")\n",
        "qua=int(input(\"ENTER QUANTITY: \"))\n",
        "for i in record:\n",
        "    if (nme == record[i][\"Name\"] and record[i][\"Quantity\"]>0):\n",
        "        print(\"*****************\")\n",
        "        print(\"PID: \",record[i][\"Pid\"])\n",
        "        print(\"Name: \",record[i][\"Name\"])\n",
        "        print(\"Quantity_purchased: \",qua)\n",
        "        print(\"Price: \",record[i][\"Price\"])\n",
        "        print(\"*****************\")\n",
        "        print(\"Total BILLING AMOUNT: \", record[i][\"Price\"]*qua)\n",
        "        print(\"*****************\")"
      ],
      "execution_count": 10,
      "outputs": [
        {
          "output_type": "stream",
          "name": "stdout",
          "text": [
            "ENTER NAME: Paracetamol\n",
            "ENTER QUANTITY: 3\n",
            "*****************\n",
            "PID:  p068\n",
            "Name:  Paracetamol\n",
            "Quantity_purchased:  3\n",
            "Price:  549.09\n",
            "*****************\n",
            "Total BILLING AMOUNT:  1647.27\n",
            "*****************\n"
          ]
        }
      ]
    },
    {
      "cell_type": "code",
      "metadata": {
        "colab": {
          "base_uri": "https://localhost:8080/"
        },
        "id": "o1Gm6PhasGCu",
        "outputId": "eab50a2a-d15e-4b55-f9b7-8df9b98ebf09"
      },
      "source": [
        "name=input(\"Enter Name of the medicine: \")\n",
        "for i in record:\n",
        "    if(name==record[i][\"Name\"]):\n",
        "        print(\"Inventory price for \", name, \" is: \", record[i][\"Quantity\"]*record[i][\"Price\"])"
      ],
      "execution_count": 11,
      "outputs": [
        {
          "output_type": "stream",
          "name": "stdout",
          "text": [
            "Enter Name of the medicine: Pepcid\n",
            "Inventory price for  Pepcid  is:  47196.0\n"
          ]
        }
      ]
    },
    {
      "cell_type": "code",
      "metadata": {
        "colab": {
          "base_uri": "https://localhost:8080/"
        },
        "id": "6iVSBRtOsekZ",
        "outputId": "379e3b3f-9538-4b30-949a-20e516183ddf"
      },
      "source": [
        "name=input(\"Enter Name of the medicine: \")\n",
        "for i in record:\n",
        "    if(name==record[i][\"Name\"] and record[i][\"Quantity\"]>0):\n",
        "        print(\"Total Stock: \",record[i][\"Quantity\"])\n",
        "    if(name==record[i][\"Name\"] and record[i][\"Quantity\"]<0):\n",
        "        print(\"stock not available\")"
      ],
      "execution_count": 12,
      "outputs": [
        {
          "output_type": "stream",
          "name": "stdout",
          "text": [
            "Enter Name of the medicine: Pepcid\n",
            "Total Stock:  54\n"
          ]
        }
      ]
    },
    {
      "cell_type": "code",
      "metadata": {
        "id": "hu0Qr4fWsnUq"
      },
      "source": [
        ""
      ],
      "execution_count": null,
      "outputs": []
    }
  ]
}